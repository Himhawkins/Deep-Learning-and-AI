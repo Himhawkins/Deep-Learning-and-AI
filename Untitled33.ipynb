{
  "nbformat": 4,
  "nbformat_minor": 0,
  "metadata": {
    "colab": {
      "name": "Untitled.ipynb",
      "provenance": [],
      "collapsed_sections": [],
      "include_colab_link": true
    },
    "kernelspec": {
      "name": "python3",
      "display_name": "Python 3"
    }
  },
  "cells": [
    {
      "cell_type": "markdown",
      "metadata": {
        "id": "view-in-github",
        "colab_type": "text"
      },
      "source": [
        "<a href=\"https://colab.research.google.com/github/Himhawkins/Deep-Learning-and-AI/blob/master/Untitled33.ipynb\" target=\"_parent\"><img src=\"https://colab.research.google.com/assets/colab-badge.svg\" alt=\"Open In Colab\"/></a>"
      ]
    },
    {
      "cell_type": "code",
      "metadata": {
        "id": "zsnAV1LdVyMZ",
        "colab_type": "code",
        "outputId": "5c14c17e-9dfd-4359-d2a6-027e201b304f",
        "colab": {
          "base_uri": "https://localhost:8080/",
          "height": 122
        }
      },
      "source": [
        "from google.colab import drive\n",
        "drive.mount('/content/drive/')"
      ],
      "execution_count": 0,
      "outputs": [
        {
          "output_type": "stream",
          "text": [
            "Go to this URL in a browser: https://accounts.google.com/o/oauth2/auth?client_id=947318989803-6bn6qk8qdgf4n4g3pfee6491hc0brc4i.apps.googleusercontent.com&redirect_uri=urn%3aietf%3awg%3aoauth%3a2.0%3aoob&response_type=code&scope=email%20https%3a%2f%2fwww.googleapis.com%2fauth%2fdocs.test%20https%3a%2f%2fwww.googleapis.com%2fauth%2fdrive%20https%3a%2f%2fwww.googleapis.com%2fauth%2fdrive.photos.readonly%20https%3a%2f%2fwww.googleapis.com%2fauth%2fpeopleapi.readonly\n",
            "\n",
            "Enter your authorization code:\n",
            "··········\n",
            "Mounted at /content/drive/\n"
          ],
          "name": "stdout"
        }
      ]
    },
    {
      "cell_type": "code",
      "metadata": {
        "id": "OyhIrU0JV151",
        "colab_type": "code",
        "colab": {}
      },
      "source": [
        "import numpy as np\n",
        "import tensorflow as tf\n",
        "import pandas as pd\n",
        "import math\n",
        "tf.compat.v1.disable_eager_execution()"
      ],
      "execution_count": 0,
      "outputs": []
    },
    {
      "cell_type": "code",
      "metadata": {
        "id": "Xyrwv9BsWVCn",
        "colab_type": "code",
        "outputId": "81d075b2-c3b0-4321-97e9-33fa97033ea8",
        "colab": {
          "base_uri": "https://localhost:8080/",
          "height": 306
        }
      },
      "source": [
        "Y_test= []\n",
        "Y_train=[]\n",
        "train_size=1193\n",
        "data_read = pd.read_excel('/content/drive/My Drive/DL/labels.xls', header=None)\n",
        "for i in range(len(data_read)):\n",
        "  if i<train_size:\n",
        "    Y_train.append(data_read[1][i])\n",
        "  else:\n",
        "    Y_test.append(data_read[1][i])\n",
        "Y_train=np.reshape((Y_train+Y_train),np.shape(Y_train+Y_train))  \n",
        "Y_test=np.reshape(Y_test,np.shape(Y_test))\n",
        "#Hot encoding\n",
        "\n",
        "Y_train=tf.one_hot(Y_train,10,axis=0)\n",
        "Y_test=tf.one_hot(Y_test,10,axis=0)\n",
        "print(data_read)\n",
        "print(Y_test.shape)\n",
        "print(Y_train.shape)\n",
        "print(type(Y_train))"
      ],
      "execution_count": 0,
      "outputs": [
        {
          "output_type": "stream",
          "text": [
            "               0  1\n",
            "0        digit_0  1\n",
            "1        digit_1  4\n",
            "2        digit_2  2\n",
            "3        digit_3  3\n",
            "4        digit_4  1\n",
            "...          ... ..\n",
            "1388  digit_1542  0\n",
            "1389  digit_1544  5\n",
            "1390  digit_1545  0\n",
            "1391  digit_1546  3\n",
            "1392  digit_1547  0\n",
            "\n",
            "[1393 rows x 2 columns]\n",
            "(10, 200)\n",
            "(10, 2386)\n",
            "<class 'tensorflow.python.framework.ops.Tensor'>\n"
          ],
          "name": "stdout"
        }
      ]
    },
    {
      "cell_type": "code",
      "metadata": {
        "id": "02CPf6OSWcVp",
        "colab_type": "code",
        "colab": {}
      },
      "source": [
        "import os\n",
        "import cv2\n",
        "import matplotlib.pyplot as plt\n",
        "path='/content/drive/My Drive/DL/'\n",
        "\n",
        "train1 = []\n",
        "train2= [] #inverted set\n",
        "test = []\n",
        "#for image in os.listdir(path):\n",
        "#inerting and dublicating data\n",
        "for i,image in enumerate(data_read[0]):\n",
        "  image = cv2.imread(os.path.join(path,(image+'.jpg')),0)\n",
        "  if image is not None :\n",
        "    image = cv2.resize(image,(28,28))\n",
        "  if i<train_size:\n",
        "    train1.append(np.reshape(image,-1))\n",
        "    train2.append(np.reshape((255-image),-1))\n",
        "  else:\n",
        "    test.append((np.reshape(image,-1)))    \n",
        "\n",
        "\n",
        "\n"
      ],
      "execution_count": 0,
      "outputs": []
    },
    {
      "cell_type": "code",
      "metadata": {
        "id": "AR4KrhKvan5M",
        "colab_type": "code",
        "outputId": "a538a7e5-f405-421c-ee8c-ad4874a99aea",
        "colab": {
          "base_uri": "https://localhost:8080/",
          "height": 34
        }
      },
      "source": [
        "train=np.reshape((train1+train2),np.shape(train1+train2)).T/255  #normalisation\n",
        "print(train.shape)\n",
        "test=np.reshape((test),np.shape(test)).T/255 #normalisation #reshapingprint(test.shape)"
      ],
      "execution_count": 0,
      "outputs": [
        {
          "output_type": "stream",
          "text": [
            "(784, 2386)\n"
          ],
          "name": "stdout"
        }
      ]
    },
    {
      "cell_type": "code",
      "metadata": {
        "id": "u1dxiSZgoOMW",
        "colab_type": "code",
        "colab": {}
      },
      "source": [
        "def mini_batch(X,Y,batch_size=64,seed=0):\n",
        "  #np.random.seed(seed)           \n",
        "  m = X.shape[1]                  \n",
        "  mini_batches = []\n",
        "  permutation = list(np.random.permutation(m))\n",
        "  shuffled_X = X[:, permutation]\n",
        "  shuffled_Y = Y[:, permutation]\n",
        "  no_mb=math.floor(m/batch_size)\n",
        "  for k in range(0,no_mb):\n",
        "    mb_X=shuffled_X[:,k*batch_size:(k+1)*batch_size]\n",
        "    mb_Y=shuffled_Y[:,k*batch_size:(k+1)*batch_size]\n",
        "    mb=(mb_X,mb_Y)\n",
        "    mini_batches.append(mb)\n",
        "  if (m%batch_size!=0):\n",
        "    mb_X=shuffled_X[:,no_mb*batch_size:m]\n",
        "    mb_Y=shuffled_Y[:,no_mb*batch_size:m]\n",
        "    mb=(mb_X,mb_Y)\n",
        "    mini_batches.append(mb)\n",
        "\n",
        "  return mini_batches\n",
        "\n",
        "def init_parameters(X,shape):\n",
        "  parameters={}\n",
        "  arr=[X.shape[0]]+shape\n",
        "  \n",
        "  for i in range(1,(len(arr))):\n",
        "    #regularizer = tf.compat.v1.contrib.layers.l2_regularizer(scale=0.1) \n",
        "\n",
        "    parameters['W'+str(i)]= tf.Variable(tf.initializers.GlorotNormal()(shape=[arr[i],arr[i-1]]))\n",
        "    parameters['b'+str(i)]= tf.Variable(tf.zeros_initializer()(shape=[arr[i],1]))\n",
        "    \n",
        "\n",
        "  return parameters\n",
        "\n",
        "def forward_pass(X,parameters):\n",
        "  Z=X\n",
        "  for i in range(int(len(parameters)/2)):\n",
        "    Z= tf.matmul(parameters['W'+str(i+1)],Z)+parameters['b'+str(i+1)]\n",
        "    if i!= (len(parameters)/2-1):\n",
        "      Z= tf.nn.relu(Z)\n",
        "  return Z"
      ],
      "execution_count": 0,
      "outputs": []
    },
    {
      "cell_type": "code",
      "metadata": {
        "id": "pKV1tElmxQ1t",
        "colab_type": "code",
        "colab": {}
      },
      "source": [
        "def model(train_X,train_Y,test_X,test_Y,shape,learning_rate=0.0002,num_epochs=250,batch_size=64,print_cost = True):\n",
        "\n",
        "  X= tf.compat.v1.placeholder(tf.float32,[train_X.shape[0],None])\n",
        "  Y= tf.compat.v1.placeholder(tf.float32,[train_Y.shape[0],None])\n",
        "  costs = [] \n",
        "  parameters=init_parameters(X, shape= shape)\n",
        "  print(parameters)\n",
        "  z= forward_pass(X, parameters)\n",
        "  Yt=tf.transpose(Y)\n",
        "  zt=tf.transpose(z)\n",
        "  cost = tf.reduce_mean(tf.nn.softmax_cross_entropy_with_logits(logits=zt, labels=Yt))\n",
        "  optimizer= tf.compat.v1.train.AdamOptimizer(learning_rate).minimize(cost)\n",
        "  init = tf.compat.v1.global_variables_initializer()\n",
        "  \n",
        "  with tf.compat.v1.Session() as sess:\n",
        "    sess.run(init)\n",
        "    \n",
        "    for epoch in range(num_epochs):\n",
        "      epoch_cost = 0.\n",
        "      minibatches=mini_batch(train_X,sess.run(train_Y))\n",
        "      for minibatch in minibatches:\n",
        "        (mb_X,mb_Y) = minibatch\n",
        "        _,mb_cost = sess.run([optimizer,cost],feed_dict={X:mb_X,Y:mb_Y})\n",
        "        epoch_cost+=mb_cost/len(minibatches)\n",
        "      if print_cost == True and epoch % 100 == 0:\n",
        "        print (\"Cost after epoch %i: %f\" % (epoch, epoch_cost))\n",
        "      if print_cost == True and epoch % 5 == 0:\n",
        "        costs.append(epoch_cost)\n",
        "        # plot the cost\n",
        "    plt.plot(np.squeeze(costs))\n",
        "    plt.ylabel('cost')\n",
        "    plt.xlabel('iterations (per tens)')\n",
        "    plt.title(\"Learning rate =\" + str(learning_rate))\n",
        "    plt.show()\n",
        "\n",
        "    # lets save the parameters in a variable\n",
        "    parameters = sess.run(parameters)\n",
        "    print (\"Parameters have been trained!\")\n",
        "\n",
        "    # Calculate the correct predictions\n",
        "    correct_prediction = tf.equal(tf.argmax(z), tf.argmax(Y))\n",
        "\n",
        "    # Calculate accuracy on the test set\n",
        "    accuracy = tf.reduce_mean(tf.cast(correct_prediction, \"float\"))\n",
        "\n",
        "    print (\"Train Accuracy:\", accuracy.eval({X: train_X, Y: sess.run( train_Y)}))\n",
        "    print (\"Test Accuracy:\", accuracy.eval({X: test_X, Y: sess.run(test_Y)}))\n",
        "    \n",
        "    return parameters\n"
      ],
      "execution_count": 0,
      "outputs": []
    },
    {
      "cell_type": "code",
      "metadata": {
        "id": "wfWS77u1xUIp",
        "colab_type": "code",
        "outputId": "6fcdf584-b117-4b5f-9cf0-a9f2f4f32dbf",
        "colab": {
          "base_uri": "https://localhost:8080/",
          "height": 434
        }
      },
      "source": [
        "\n",
        "shape=[300,200,10]\n",
        "\n",
        "parameters = model(train, Y_train, test, Y_test,shape)"
      ],
      "execution_count": 0,
      "outputs": [
        {
          "output_type": "stream",
          "text": [
            "{'W1': <tf.Variable 'Variable_12:0' shape=(300, 784) dtype=float32>, 'b1': <tf.Variable 'Variable_13:0' shape=(300, 1) dtype=float32>, 'W2': <tf.Variable 'Variable_14:0' shape=(200, 300) dtype=float32>, 'b2': <tf.Variable 'Variable_15:0' shape=(200, 1) dtype=float32>, 'W3': <tf.Variable 'Variable_16:0' shape=(10, 200) dtype=float32>, 'b3': <tf.Variable 'Variable_17:0' shape=(10, 1) dtype=float32>}\n",
            "Cost after epoch 0: 2.181658\n",
            "Cost after epoch 100: 0.037713\n",
            "Cost after epoch 200: 0.001310\n"
          ],
          "name": "stdout"
        },
        {
          "output_type": "display_data",
          "data": {
            "image/png": "[encoded data removed]",
            "text/plain": [
              "<Figure size 432x288 with 1 Axes>"
            ]
          },
          "metadata": {
            "tags": [],
            "needs_background": "light"
          }
        },
        {
          "output_type": "stream",
          "text": [
            "Parameters have been trained!\n",
            "Train Accuracy: 1.0\n",
            "Test Accuracy: 0.91\n"
          ],
          "name": "stdout"
        }
      ]
    },
    {
      "cell_type": "code",
      "metadata": {
        "id": "hchDqWBwLx3C",
        "colab_type": "code",
        "colab": {}
      },
      "source": [
        ""
      ],
      "execution_count": 0,
      "outputs": []
    },
    {
      "cell_type": "code",
      "metadata": {
        "id": "S8ovSnkCRHq9",
        "colab_type": "code",
        "colab": {}
      },
      "source": [
        ""
      ],
      "execution_count": 0,
      "outputs": []
    }
  ]
}